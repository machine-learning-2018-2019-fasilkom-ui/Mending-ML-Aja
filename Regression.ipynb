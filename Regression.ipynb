{
 "cells": [
  {
   "cell_type": "code",
   "execution_count": 74,
   "metadata": {},
   "outputs": [],
   "source": [
    "from keras import backend as K"
   ]
  },
  {
   "cell_type": "code",
   "execution_count": 75,
   "metadata": {},
   "outputs": [],
   "source": [
    "import numpy as np\n",
    "import pandas as pd"
   ]
  },
  {
   "cell_type": "code",
   "execution_count": 76,
   "metadata": {},
   "outputs": [],
   "source": [
    "import keras"
   ]
  },
  {
   "cell_type": "markdown",
   "metadata": {},
   "source": [
    "# Indodax Data Retrieval"
   ]
  },
  {
   "cell_type": "code",
   "execution_count": 77,
   "metadata": {},
   "outputs": [],
   "source": [
    "import requests\n",
    "import datetime\n",
    "import pytz\n",
    "from matplotlib.pyplot import figure\n",
    "import matplotlib.pyplot as plt"
   ]
  },
  {
   "cell_type": "markdown",
   "metadata": {},
   "source": [
    "## Training Data"
   ]
  },
  {
   "cell_type": "code",
   "execution_count": 78,
   "metadata": {},
   "outputs": [
    {
     "data": {
      "text/plain": [
       "52417"
      ]
     },
     "execution_count": 78,
     "metadata": {},
     "output_type": "execute_result"
    }
   ],
   "source": [
    "root_uri_trade_api = 'https://indodax.com/api'\n",
    "root_uri_chart_api = 'https://indodax.com/tradingview/history'\n",
    "#?symbol=BTCIDR&resolution=15&from=1546489788&to=1547785848'\n",
    "chart_currency = 'BTCIDR'\n",
    "period = '5'\n",
    "time_begin = int(datetime.datetime(2015, 11, 1).timestamp())\n",
    "time_end = int(datetime.datetime(2016, 5, 1).timestamp())\n",
    "chart_query = '?symbol={}&resolution={}&from={}&to={}'.format(chart_currency, period, time_begin, time_end)\n",
    "\n",
    "r = requests.get(root_uri_chart_api + chart_query)\n",
    "training_frame = pd.DataFrame({\n",
    "    'open': r.json()['o'],\n",
    "    'close': r.json()['c'],\n",
    "    'high': r.json()['h'],\n",
    "    'low': r.json()['l'],\n",
    "    'volume': r.json()['v']\n",
    "# }, index=list(map(lambda t: (datetime.datetime.utcfromtimestamp(t) + datetime.timedelta(hours=7)).strftime('%d/%m %H.%M'), r.json()['t'])))\n",
    "}, index=list(map(lambda t: (datetime.datetime.utcfromtimestamp(t) + datetime.timedelta(hours=7)), r.json()['t'])))\n",
    "len(training_frame)"
   ]
  },
  {
   "cell_type": "code",
   "execution_count": 79,
   "metadata": {},
   "outputs": [
    {
     "data": {
      "text/html": [
       "<div>\n",
       "<style scoped>\n",
       "    .dataframe tbody tr th:only-of-type {\n",
       "        vertical-align: middle;\n",
       "    }\n",
       "\n",
       "    .dataframe tbody tr th {\n",
       "        vertical-align: top;\n",
       "    }\n",
       "\n",
       "    .dataframe thead th {\n",
       "        text-align: right;\n",
       "    }\n",
       "</style>\n",
       "<table border=\"1\" class=\"dataframe\">\n",
       "  <thead>\n",
       "    <tr style=\"text-align: right;\">\n",
       "      <th></th>\n",
       "      <th>open</th>\n",
       "      <th>close</th>\n",
       "      <th>high</th>\n",
       "      <th>low</th>\n",
       "      <th>volume</th>\n",
       "    </tr>\n",
       "  </thead>\n",
       "  <tbody>\n",
       "    <tr>\n",
       "      <th>2015-11-01 00:00:00</th>\n",
       "      <td>4610000</td>\n",
       "      <td>4606900</td>\n",
       "      <td>4610000</td>\n",
       "      <td>4606900</td>\n",
       "      <td>2.016935</td>\n",
       "    </tr>\n",
       "    <tr>\n",
       "      <th>2015-11-01 00:05:00</th>\n",
       "      <td>4606900</td>\n",
       "      <td>4606900</td>\n",
       "      <td>4606900</td>\n",
       "      <td>4606800</td>\n",
       "      <td>4.587916</td>\n",
       "    </tr>\n",
       "    <tr>\n",
       "      <th>2015-11-01 00:10:00</th>\n",
       "      <td>4606900</td>\n",
       "      <td>4606900</td>\n",
       "      <td>4606900</td>\n",
       "      <td>4606800</td>\n",
       "      <td>0.744958</td>\n",
       "    </tr>\n",
       "    <tr>\n",
       "      <th>2015-11-01 00:15:00</th>\n",
       "      <td>4606900</td>\n",
       "      <td>4595000</td>\n",
       "      <td>4606900</td>\n",
       "      <td>4595000</td>\n",
       "      <td>14.910502</td>\n",
       "    </tr>\n",
       "    <tr>\n",
       "      <th>2015-11-01 00:20:00</th>\n",
       "      <td>4595000</td>\n",
       "      <td>4582000</td>\n",
       "      <td>4606700</td>\n",
       "      <td>4581900</td>\n",
       "      <td>5.650364</td>\n",
       "    </tr>\n",
       "  </tbody>\n",
       "</table>\n",
       "</div>"
      ],
      "text/plain": [
       "                        open    close     high      low     volume\n",
       "2015-11-01 00:00:00  4610000  4606900  4610000  4606900   2.016935\n",
       "2015-11-01 00:05:00  4606900  4606900  4606900  4606800   4.587916\n",
       "2015-11-01 00:10:00  4606900  4606900  4606900  4606800   0.744958\n",
       "2015-11-01 00:15:00  4606900  4595000  4606900  4595000  14.910502\n",
       "2015-11-01 00:20:00  4595000  4582000  4606700  4581900   5.650364"
      ]
     },
     "execution_count": 79,
     "metadata": {},
     "output_type": "execute_result"
    }
   ],
   "source": [
    "training_frame.head()"
   ]
  },
  {
   "cell_type": "code",
   "execution_count": 80,
   "metadata": {},
   "outputs": [
    {
     "data": {
      "text/plain": [
       "<matplotlib.axes._subplots.AxesSubplot at 0x7fb33fd5c860>"
      ]
     },
     "execution_count": 80,
     "metadata": {},
     "output_type": "execute_result"
    },
    {
     "data": {
      "image/png": "[encoded data removed]",
      "text/plain": [
       "<Figure size 432x288 with 1 Axes>"
      ]
     },
     "metadata": {
      "needs_background": "light"
     },
     "output_type": "display_data"
    }
   ],
   "source": [
    "training_frame['close'].plot()"
   ]
  },
  {
   "cell_type": "markdown",
   "metadata": {},
   "source": [
    "## Testing Data\n",
    "### Ascending Price"
   ]
  },
  {
   "cell_type": "code",
   "execution_count": 81,
   "metadata": {},
   "outputs": [
    {
     "data": {
      "text/plain": [
       "17569"
      ]
     },
     "execution_count": 81,
     "metadata": {},
     "output_type": "execute_result"
    }
   ],
   "source": [
    "time_begin = int(datetime.datetime(2017, 10, 1).timestamp())\n",
    "time_end = int(datetime.datetime(2017, 12, 1).timestamp())\n",
    "chart_query = '?symbol={}&resolution={}&from={}&to={}'.format(chart_currency, period, time_begin, time_end)\n",
    "\n",
    "r = requests.get(root_uri_chart_api + chart_query)\n",
    "asc_test_frame = pd.DataFrame({\n",
    "    'open': r.json()['o'],\n",
    "    'close': r.json()['c'],\n",
    "    'high': r.json()['h'],\n",
    "    'low': r.json()['l'],\n",
    "    'volume': r.json()['v']\n",
    "}, index=list(map(lambda t: (datetime.datetime.utcfromtimestamp(t) + datetime.timedelta(hours=7)), r.json()['t'])))\n",
    "len(asc_test_frame)"
   ]
  },
  {
   "cell_type": "code",
   "execution_count": 82,
   "metadata": {},
   "outputs": [
    {
     "data": {
      "text/plain": [
       "<matplotlib.axes._subplots.AxesSubplot at 0x7fb329cad8d0>"
      ]
     },
     "execution_count": 82,
     "metadata": {},
     "output_type": "execute_result"
    },
    {
     "data": {
      "image/png": "[encoded data removed]",
      "text/plain": [
       "<Figure size 432x288 with 1 Axes>"
      ]
     },
     "metadata": {
      "needs_background": "light"
     },
     "output_type": "display_data"
    }
   ],
   "source": [
    "asc_test_frame['close'].plot()"
   ]
  },
  {
   "cell_type": "markdown",
   "metadata": {},
   "source": [
    "### Descending Test Price"
   ]
  },
  {
   "cell_type": "code",
   "execution_count": 83,
   "metadata": {},
   "outputs": [
    {
     "data": {
      "text/plain": [
       "16993"
      ]
     },
     "execution_count": 83,
     "metadata": {},
     "output_type": "execute_result"
    }
   ],
   "source": [
    "time_begin = int(datetime.datetime(2018, 1, 1).timestamp())\n",
    "time_end = int(datetime.datetime(2018, 3, 1).timestamp())\n",
    "chart_query = '?symbol={}&resolution={}&from={}&to={}'.format(chart_currency, period, time_begin, time_end)\n",
    "\n",
    "r = requests.get(root_uri_chart_api + chart_query)\n",
    "desc_test_frame = pd.DataFrame({\n",
    "    'open': r.json()['o'],\n",
    "    'close': r.json()['c'],\n",
    "    'high': r.json()['h'],\n",
    "    'low': r.json()['l'],\n",
    "    'volume': r.json()['v']\n",
    "}, index=list(map(lambda t: (datetime.datetime.utcfromtimestamp(t) + datetime.timedelta(hours=7)), r.json()['t'])))\n",
    "len(desc_test_frame)"
   ]
  },
  {
   "cell_type": "code",
   "execution_count": 84,
   "metadata": {},
   "outputs": [
    {
     "data": {
      "text/plain": [
       "<matplotlib.axes._subplots.AxesSubplot at 0x7fb329fb0828>"
      ]
     },
     "execution_count": 84,
     "metadata": {},
     "output_type": "execute_result"
    },
    {
     "data": {
      "image/png": "[encoded data removed]",
      "text/plain": [
       "<Figure size 432x288 with 1 Axes>"
      ]
     },
     "metadata": {
      "needs_background": "light"
     },
     "output_type": "display_data"
    }
   ],
   "source": [
    "desc_test_frame['close'].plot()"
   ]
  },
  {
   "cell_type": "markdown",
   "metadata": {},
   "source": [
    "### Stagnant Test Price"
   ]
  },
  {
   "cell_type": "code",
   "execution_count": 85,
   "metadata": {},
   "outputs": [
    {
     "data": {
      "text/plain": [
       "17569"
      ]
     },
     "execution_count": 85,
     "metadata": {},
     "output_type": "execute_result"
    }
   ],
   "source": [
    "time_begin = int(datetime.datetime(2016, 8, 10).timestamp())\n",
    "time_end = int(datetime.datetime(2016, 10, 10).timestamp())\n",
    "chart_query = '?symbol={}&resolution={}&from={}&to={}'.format(chart_currency, period, time_begin, time_end)\n",
    "\n",
    "r = requests.get(root_uri_chart_api + chart_query)\n",
    "stag_test_frame = pd.DataFrame({\n",
    "    'open': r.json()['o'],\n",
    "    'close': r.json()['c'],\n",
    "    'high': r.json()['h'],\n",
    "    'low': r.json()['l'],\n",
    "    'volume': r.json()['v']\n",
    "}, index=list(map(lambda t: (datetime.datetime.utcfromtimestamp(t) + datetime.timedelta(hours=7)), r.json()['t'])))\n",
    "len(stag_test_frame)"
   ]
  },
  {
   "cell_type": "code",
   "execution_count": 86,
   "metadata": {},
   "outputs": [
    {
     "data": {
      "text/plain": [
       "<matplotlib.axes._subplots.AxesSubplot at 0x7fb33048c518>"
      ]
     },
     "execution_count": 86,
     "metadata": {},
     "output_type": "execute_result"
    },
    {
     "data": {
      "image/png": "[encoded data removed]",
      "text/plain": [
       "<Figure size 432x288 with 1 Axes>"
      ]
     },
     "metadata": {
      "needs_background": "light"
     },
     "output_type": "display_data"
    }
   ],
   "source": [
    "stag_test_frame['close'].plot()"
   ]
  },
  {
   "cell_type": "markdown",
   "metadata": {},
   "source": [
    "# Calculate Profit Using Test Strategy"
   ]
  },
  {
   "cell_type": "code",
   "execution_count": 91,
   "metadata": {},
   "outputs": [],
   "source": [
    "import backtrader as bt\n",
    "import backtrader.feeds as btfeeds\n",
    "class TestStrategy(bt.Strategy):\n",
    "\n",
    "    def log(self, txt, dt=None):\n",
    "        ''' Logging function fot this strategy'''\n",
    "        dt = dt or self.datas[0].datetime.date(0)\n",
    "        print('%s, %s' % (dt.isoformat(), txt))\n",
    "\n",
    "    def __init__(self):\n",
    "        # weird workaround due to limitation to column name\n",
    "        # we take the low column as action\n",
    "        self.data_action = self.datas[0].low\n",
    "        # To keep track of pending orders\n",
    "        self.order = None\n",
    "\n",
    "    def notify_order(self, order):\n",
    "        if order.status in [order.Submitted, order.Accepted]:\n",
    "            return\n",
    "\n",
    "        # Check if an order has been completed\n",
    "        # Attention: broker could reject order if not enough cash\n",
    "        if order.status in [order.Completed]:\n",
    "            if order.isbuy():\n",
    "                self.log(\n",
    "                    'BUY EXECUTED, Price: %.2f, Cost: %.2f, Comm %.2f' %\n",
    "                    (order.executed.price,\n",
    "                     order.executed.value,\n",
    "                     order.executed.comm))\n",
    "\n",
    "                self.buyprice = order.executed.price\n",
    "                self.buycomm = order.executed.comm\n",
    "                self.opsize = order.executed.size\n",
    "            else:  # Sell\n",
    "                self.log('SELL EXECUTED, Price: %.2f, Cost: %.2f, Comm %.2f' %\n",
    "                         (order.executed.price,\n",
    "                          order.executed.value,\n",
    "                          order.executed.comm))\n",
    "\n",
    "                gross_pnl = (order.executed.price - self.buyprice) * \\\n",
    "                    self.opsize\n",
    "\n",
    "                net_pnl = gross_pnl - self.buycomm - order.executed.comm\n",
    "                self.log('OPERATION PROFIT, GROSS %.2f, NET %.2f' %\n",
    "                         (gross_pnl, net_pnl))\n",
    "\n",
    "\n",
    "            self.bar_executed = len(self)\n",
    "\n",
    "        elif order.status in [order.Canceled, order.Margin, order.Rejected]:\n",
    "            self.log('Order Canceled/Margin/Rejected')\n",
    "\n",
    "        # Write down: no pending order\n",
    "        self.order = None\n",
    "\n",
    "    def next(self):\n",
    "        # Check if an order is pending ... if yes, we cannot send a 2nd one\n",
    "        if self.order:\n",
    "            return\n",
    "\n",
    "        # Check if we are in the market\n",
    "        if not self.position:\n",
    "\n",
    "            # buy!\n",
    "            if self.data_action[0] == -1:\n",
    "                self.log('BUY CREATE')\n",
    "                self.order = self.buy()\n",
    "\n",
    "        else:\n",
    "            # sell!\n",
    "            if self.data_action[0] == 1:\n",
    "                self.log('SELL CREATE')\n",
    "                self.order = self.sell()"
   ]
  },
  {
   "cell_type": "code",
   "execution_count": 92,
   "metadata": {},
   "outputs": [],
   "source": [
    "def run_calculate_profit(action_frame, label):\n",
    "    commission = 0.003\n",
    "    action_frame['low'] = label\n",
    "    data_feed = btfeeds.PandasData(dataname=action_frame, openinterest=None)\n",
    "\n",
    "    cerebro = bt.Cerebro()\n",
    "    cerebro.addstrategy(TestStrategy)\n",
    "    cerebro.adddata(data_feed)\n",
    "    # cerebro.adddata(action_frame)\n",
    "    cerebro.broker.setcash(100000000.0)\n",
    "    cerebro.broker.setcommission(commission=commission)\n",
    "\n",
    "    # Print out the starting conditions\n",
    "    startingPortofolio = cerebro.broker.getvalue()\n",
    "    print('Starting Portfolio Value: %.2f' % cerebro.broker.getvalue())\n",
    "\n",
    "    # Run over everything\n",
    "    cerebro.run()\n",
    "\n",
    "    # Print out the final result\n",
    "    finalPortofolio = cerebro.broker.getvalue()\n",
    "    print('Final Portfolio Value: %.2f' % cerebro.broker.getvalue())\n",
    "    print('Profit: %.2f (%.6f%%)' % (finalPortofolio - startingPortofolio, (finalPortofolio - startingPortofolio)/startingPortofolio*100))"
   ]
  },
  {
   "cell_type": "markdown",
   "metadata": {},
   "source": [
    "# Data Processing"
   ]
  },
  {
   "cell_type": "code",
   "execution_count": 96,
   "metadata": {},
   "outputs": [],
   "source": [
    "t_backward = 3\n",
    "regr_count = 1\n",
    "\n",
    "tmp_data_frame = []\n",
    "for i in range(t_backward, len(training_frame)-regr_count):\n",
    "    to_append = training_frame['close'][i-t_backward:i+regr_count]\n",
    "    tmp_data_frame.append(to_append)\n",
    "training_frame_ext = tmp_data_frame\n",
    "\n",
    "tmp_data_frame = []\n",
    "for i in range(t_backward, len(asc_test_frame)-regr_count):\n",
    "    to_append = asc_test_frame['close'][i-t_backward:i+regr_count]\n",
    "    tmp_data_frame.append(to_append)\n",
    "asc_test_frame_ext = tmp_data_frame\n",
    "\n",
    "tmp_data_frame = []\n",
    "for i in range(t_backward, len(desc_test_frame)-regr_count):\n",
    "    to_append = desc_test_frame['close'][i-t_backward:i+regr_count]\n",
    "    tmp_data_frame.append(to_append)\n",
    "desc_test_frame_ext = tmp_data_frame\n",
    "\n",
    "tmp_data_frame = []\n",
    "for i in range(t_backward, len(stag_test_frame)-regr_count):\n",
    "    to_append = stag_test_frame['close'][i-t_backward:i+regr_count]\n",
    "    tmp_data_frame.append(to_append)\n",
    "stag_test_frame_ext = tmp_data_frame\n",
    "\n",
    "columns = []\n",
    "now = -t_backward+1\n",
    "for i in range(t_backward+regr_count):\n",
    "    if now != 0:\n",
    "        columns.append('t'+str(now))\n",
    "    else:\n",
    "        columns.append('t')\n",
    "    now += 1\n",
    "\n",
    "training_frame_ext = pd.DataFrame(np.array(training_frame_ext), columns=columns)\n",
    "asc_test_frame_ext = pd.DataFrame(np.array(asc_test_frame_ext), columns=columns)\n",
    "desc_test_frame_ext = pd.DataFrame(np.array(desc_test_frame_ext), columns=columns)\n",
    "stag_test_frame_ext = pd.DataFrame(np.array(stag_test_frame_ext), columns=columns)"
   ]
  },
  {
   "cell_type": "markdown",
   "metadata": {},
   "source": [
    "# Linear Regression\n",
    "## Training Phase\n",
    "### Feature Extraction"
   ]
  },
  {
   "cell_type": "code",
   "execution_count": 97,
   "metadata": {},
   "outputs": [],
   "source": [
    "feature_cols = columns[:t_backward]\n",
    "label_columns = columns[-regr_count:]\n",
    "\n",
    "x_training_frame = training_frame_ext[feature_cols]\n",
    "y_training_frame = training_frame_ext[label_columns]\n",
    "\n",
    "x_asc_test_frame = asc_test_frame_ext[feature_cols]\n",
    "y_asc_test_frame = asc_test_frame_ext[label_columns]\n",
    "\n",
    "x_desc_test_frame = desc_test_frame_ext[feature_cols]\n",
    "y_desc_test_frame = desc_test_frame_ext[label_columns]\n",
    "\n",
    "x_stag_test_frame = stag_test_frame_ext[feature_cols]\n",
    "y_stag_test_frame = stag_test_frame_ext[label_columns]"
   ]
  },
  {
   "cell_type": "code",
   "execution_count": 98,
   "metadata": {
    "scrolled": true
   },
   "outputs": [
    {
     "name": "stdout",
     "output_type": "stream",
     "text": [
      "Score of the- 1  regression: \n",
      "    Ascending :  0.9997784101686312\n",
      "    Descending :  0.9996811504160016\n",
      "    Stagnant :  0.9945564023019827\n"
     ]
    }
   ],
   "source": [
    "from sklearn.linear_model import LinearRegression\n",
    "\n",
    "regs = [LinearRegression() for i in range(regr_count)]\n",
    "for i in range(len(regs)):\n",
    "    reg = regs[i]\n",
    "    reg.fit(x_training_frame, y_training_frame[label_columns[i]])\n",
    "    print('Score of the-', i+1,' regression: ')\n",
    "    print('    Ascending : ',reg.score(x_asc_test_frame, y_asc_test_frame[label_columns[i]]))\n",
    "    print('    Descending : ',reg.score(x_desc_test_frame, y_desc_test_frame[label_columns[i]]))\n",
    "    print('    Stagnant : ',reg.score(x_stag_test_frame, y_stag_test_frame[label_columns[i]]))"
   ]
  },
  {
   "cell_type": "markdown",
   "metadata": {},
   "source": [
    "## Testing Phase\n",
    "### Labelling Testing Data"
   ]
  },
  {
   "cell_type": "code",
   "execution_count": 99,
   "metadata": {},
   "outputs": [],
   "source": [
    "from statistics import mean\n",
    "from time import time\n",
    "\n",
    "def get_index_based_mean(lst):\n",
    "    ans = 0\n",
    "    multiplier = 1\n",
    "    for i in range(len(lst)):\n",
    "        if (i != len(lst)-1):\n",
    "            multiplier /= 2\n",
    "        ans += lst[i]*multiplier\n",
    "    return ans\n",
    "\n",
    "def label_test_data(x_test, y_test):\n",
    "    label = []\n",
    "    start_time = time()\n",
    "\n",
    "    for i in range(len(x_test)):\n",
    "        feat = x_test[i:i+1]\n",
    "\n",
    "        feature_ext = []\n",
    "        for j in feature_cols:\n",
    "            now = feat[j]\n",
    "            for tmp in now:\n",
    "                feature_ext.append(tmp)\n",
    "\n",
    "        predict = [regs[i].predict(feat)[0] for i in range(regr_count)]\n",
    "\n",
    "        prev_price = feature_ext[-1]\n",
    "        predict_mean = get_index_based_mean(predict)\n",
    "        predict_mean_commision = 0.003*predict_mean\n",
    "\n",
    "        mean_delta = predict_mean - prev_price\n",
    "        if mean_delta > 0:\n",
    "            if mean_delta > predict_mean_commision:\n",
    "                label.append(-1)\n",
    "            else:\n",
    "                label.append(0)\n",
    "        else:\n",
    "            if mean_delta < -predict_mean_commision:\n",
    "                label.append(1)\n",
    "            else:\n",
    "                label.append(0)\n",
    "    \n",
    "    end_time = time()\n",
    "    print('Elapsed Time:',end_time-start_time,'second(s)')\n",
    "    print('Label statistic:')\n",
    "    print('    Buy', len(list(filter(lambda p: p == -1, label))))\n",
    "    print('    Hold', len(list(filter(lambda p: p == 0, label))))\n",
    "    print('    Sell', len(list(filter(lambda p: p == 1, label))))\n",
    "    return label"
   ]
  },
  {
   "cell_type": "markdown",
   "metadata": {},
   "source": [
    "### Ascending Data"
   ]
  },
  {
   "cell_type": "code",
   "execution_count": 100,
   "metadata": {},
   "outputs": [
    {
     "name": "stdout",
     "output_type": "stream",
     "text": [
      "Elapsed Time: 11.657761096954346 second(s)\n",
      "Label statistic:\n",
      "    Buy 30\n",
      "    Hold 17497\n",
      "    Sell 38\n"
     ]
    }
   ],
   "source": [
    "asc_test_label = label_test_data(x_asc_test_frame, y_asc_test_frame)"
   ]
  },
  {
   "cell_type": "code",
   "execution_count": 101,
   "metadata": {
    "scrolled": true
   },
   "outputs": [
    {
     "name": "stdout",
     "output_type": "stream",
     "text": [
      "Starting Portfolio Value: 100000000.00\n"
     ]
    },
    {
     "name": "stderr",
     "output_type": "stream",
     "text": [
      "/home/sangbijaksana/anaconda3/lib/python3.7/site-packages/ipykernel_launcher.py:3: SettingWithCopyWarning: \n",
      "A value is trying to be set on a copy of a slice from a DataFrame.\n",
      "Try using .loc[row_indexer,col_indexer] = value instead\n",
      "\n",
      "See the caveats in the documentation: http://pandas.pydata.org/pandas-docs/stable/indexing.html#indexing-view-versus-copy\n",
      "  This is separate from the ipykernel package so we can avoid doing imports until\n"
     ]
    },
    {
     "name": "stdout",
     "output_type": "stream",
     "text": [
      "2017-10-13, BUY CREATE\n",
      "2017-10-13, BUY EXECUTED, Price: 71005200.00, Cost: 71005200.00, Comm 213015.60\n",
      "2017-10-13, SELL CREATE\n",
      "2017-10-13, SELL EXECUTED, Price: 73800100.00, Cost: 71005200.00, Comm 221400.30\n",
      "2017-10-13, OPERATION PROFIT, GROSS 2794900.00, NET 2360484.10\n",
      "2017-11-02, BUY CREATE\n",
      "2017-11-02, BUY EXECUTED, Price: 97497900.00, Cost: 97497900.00, Comm 292493.70\n",
      "2017-11-02, SELL CREATE\n",
      "2017-11-02, SELL EXECUTED, Price: 95999500.00, Cost: 97497900.00, Comm 287998.50\n",
      "2017-11-02, OPERATION PROFIT, GROSS -1498400.00, NET -2078892.20\n",
      "2017-11-11, BUY CREATE\n",
      "2017-11-11, BUY EXECUTED, Price: 92945000.00, Cost: 92945000.00, Comm 278835.00\n",
      "2017-11-11, SELL CREATE\n",
      "2017-11-11, SELL EXECUTED, Price: 88660000.00, Cost: 92945000.00, Comm 265980.00\n",
      "2017-11-11, OPERATION PROFIT, GROSS -4285000.00, NET -4829815.00\n",
      "2017-11-12, BUY CREATE\n",
      "2017-11-12, BUY EXECUTED, Price: 76630100.00, Cost: 76630100.00, Comm 229890.30\n",
      "2017-11-12, SELL CREATE\n",
      "2017-11-12, SELL EXECUTED, Price: 83823100.00, Cost: 76630100.00, Comm 251469.30\n",
      "2017-11-12, OPERATION PROFIT, GROSS 7193000.00, NET 6711640.40\n",
      "2017-11-12, BUY CREATE\n",
      "2017-11-12, BUY EXECUTED, Price: 88899900.00, Cost: 88899900.00, Comm 266699.70\n",
      "2017-11-12, SELL CREATE\n",
      "2017-11-12, SELL EXECUTED, Price: 85000000.00, Cost: 88899900.00, Comm 255000.00\n",
      "2017-11-12, OPERATION PROFIT, GROSS -3899900.00, NET -4421599.70\n",
      "2017-11-12, BUY CREATE\n",
      "2017-11-12, BUY EXECUTED, Price: 83999700.00, Cost: 83999700.00, Comm 251999.10\n",
      "2017-11-12, SELL CREATE\n",
      "2017-11-12, SELL EXECUTED, Price: 88000000.00, Cost: 83999700.00, Comm 264000.00\n",
      "2017-11-12, OPERATION PROFIT, GROSS 4000300.00, NET 3484300.90\n",
      "2017-11-12, BUY CREATE\n",
      "2017-11-12, BUY EXECUTED, Price: 87000600.00, Cost: 87000600.00, Comm 261001.80\n",
      "2017-11-12, SELL CREATE\n",
      "2017-11-12, SELL EXECUTED, Price: 86624600.00, Cost: 87000600.00, Comm 259873.80\n",
      "2017-11-12, OPERATION PROFIT, GROSS -376000.00, NET -896875.60\n",
      "2017-11-13, BUY CREATE\n",
      "2017-11-13, BUY EXECUTED, Price: 80000000.00, Cost: 80000000.00, Comm 240000.00\n",
      "2017-11-13, SELL CREATE\n",
      "2017-11-13, SELL EXECUTED, Price: 83000000.00, Cost: 80000000.00, Comm 249000.00\n",
      "2017-11-13, OPERATION PROFIT, GROSS 3000000.00, NET 2511000.00\n",
      "2017-11-13, BUY CREATE\n",
      "2017-11-13, BUY EXECUTED, Price: 84744500.00, Cost: 84744500.00, Comm 254233.50\n",
      "2017-11-13, SELL CREATE\n",
      "2017-11-13, SELL EXECUTED, Price: 85800000.00, Cost: 84744500.00, Comm 257400.00\n",
      "2017-11-13, OPERATION PROFIT, GROSS 1055500.00, NET 543866.50\n",
      "2017-11-13, BUY CREATE\n",
      "2017-11-13, BUY EXECUTED, Price: 89942400.00, Cost: 89942400.00, Comm 269827.20\n",
      "2017-11-13, SELL CREATE\n",
      "2017-11-13, SELL EXECUTED, Price: 91000200.00, Cost: 89942400.00, Comm 273000.60\n",
      "2017-11-13, OPERATION PROFIT, GROSS 1057800.00, NET 514972.20\n",
      "2017-11-13, BUY CREATE\n",
      "2017-11-13, BUY EXECUTED, Price: 88798100.00, Cost: 88798100.00, Comm 266394.30\n",
      "2017-11-14, SELL CREATE\n",
      "2017-11-14, SELL EXECUTED, Price: 91496900.00, Cost: 88798100.00, Comm 274490.70\n",
      "2017-11-14, OPERATION PROFIT, GROSS 2698800.00, NET 2157915.00\n",
      "2017-11-17, BUY CREATE\n",
      "2017-11-17, BUY EXECUTED, Price: 104268700.00, Cost: 104268700.00, Comm 312806.10\n",
      "2017-11-29, SELL CREATE\n",
      "2017-11-29, SELL EXECUTED, Price: 156800500.00, Cost: 104268700.00, Comm 470401.50\n",
      "2017-11-29, OPERATION PROFIT, GROSS 52531800.00, NET 51748592.40\n",
      "2017-11-29, BUY CREATE\n",
      "2017-11-29, BUY EXECUTED, Price: 152900100.00, Cost: 152900100.00, Comm 458700.30\n",
      "2017-11-29, SELL CREATE\n",
      "2017-11-29, SELL EXECUTED, Price: 156899300.00, Cost: 152900100.00, Comm 470697.90\n",
      "2017-11-29, OPERATION PROFIT, GROSS 3999200.00, NET 3069801.80\n",
      "2017-11-30, BUY CREATE\n",
      "2017-11-30, BUY EXECUTED, Price: 150397400.00, Cost: 150397400.00, Comm 451192.20\n",
      "2017-11-30, SELL CREATE\n",
      "2017-11-30, SELL EXECUTED, Price: 152999400.00, Cost: 150397400.00, Comm 458998.20\n",
      "2017-11-30, OPERATION PROFIT, GROSS 2602000.00, NET 1691809.60\n",
      "2017-11-30, BUY CREATE\n",
      "2017-11-30, BUY EXECUTED, Price: 147600500.00, Cost: 147600500.00, Comm 442801.50\n",
      "2017-11-30, SELL CREATE\n",
      "2017-11-30, SELL EXECUTED, Price: 151998600.00, Cost: 147600500.00, Comm 455995.80\n",
      "2017-11-30, OPERATION PROFIT, GROSS 4398100.00, NET 3499302.70\n",
      "2017-11-30, BUY CREATE\n",
      "2017-11-30, BUY EXECUTED, Price: 147909400.00, Cost: 147909400.00, Comm 443728.20\n",
      "2017-11-30, SELL CREATE\n",
      "2017-11-30, SELL EXECUTED, Price: 159399900.00, Cost: 147909400.00, Comm 478199.70\n",
      "2017-11-30, OPERATION PROFIT, GROSS 11490500.00, NET 10568572.10\n",
      "2017-11-30, BUY CREATE\n",
      "2017-11-30, BUY EXECUTED, Price: 139101000.00, Cost: 139101000.00, Comm 417303.00\n",
      "2017-11-30, SELL CREATE\n",
      "2017-11-30, SELL EXECUTED, Price: 142000000.00, Cost: 139101000.00, Comm 426000.00\n",
      "2017-11-30, OPERATION PROFIT, GROSS 2899000.00, NET 2055697.00\n",
      "2017-11-30, BUY CREATE\n",
      "2017-11-30, BUY EXECUTED, Price: 147000000.00, Cost: 147000000.00, Comm 441000.00\n",
      "2017-11-30, SELL CREATE\n",
      "2017-11-30, SELL EXECUTED, Price: 152300400.00, Cost: 147000000.00, Comm 456901.20\n",
      "2017-11-30, OPERATION PROFIT, GROSS 5300400.00, NET 4402498.80\n",
      "2017-11-30, BUY CREATE\n",
      "2017-11-30, BUY EXECUTED, Price: 141020200.00, Cost: 141020200.00, Comm 423060.60\n",
      "2017-11-30, SELL CREATE\n",
      "2017-11-30, SELL EXECUTED, Price: 143100000.00, Cost: 141020200.00, Comm 429300.00\n",
      "2017-11-30, OPERATION PROFIT, GROSS 2079800.00, NET 1227439.40\n",
      "2017-11-30, BUY CREATE\n",
      "2017-11-30, BUY EXECUTED, Price: 139848900.00, Cost: 139848900.00, Comm 419546.70\n",
      "Final Portfolio Value: 185902263.70\n",
      "Profit: 85902263.70 (85.902264%)\n"
     ]
    }
   ],
   "source": [
    "run_calculate_profit(asc_test_frame[t_backward:-regr_count], asc_test_label)"
   ]
  },
  {
   "cell_type": "markdown",
   "metadata": {},
   "source": [
    "### Descending Data"
   ]
  },
  {
   "cell_type": "code",
   "execution_count": 102,
   "metadata": {},
   "outputs": [
    {
     "name": "stdout",
     "output_type": "stream",
     "text": [
      "Elapsed Time: 11.931921482086182 second(s)\n",
      "Label statistic:\n",
      "    Buy 43\n",
      "    Hold 16823\n",
      "    Sell 123\n"
     ]
    }
   ],
   "source": [
    "desc_test_label = label_test_data(x_desc_test_frame, y_desc_test_frame)"
   ]
  },
  {
   "cell_type": "code",
   "execution_count": 103,
   "metadata": {
    "scrolled": true
   },
   "outputs": [
    {
     "name": "stdout",
     "output_type": "stream",
     "text": [
      "Starting Portfolio Value: 100000000.00\n"
     ]
    },
    {
     "name": "stderr",
     "output_type": "stream",
     "text": [
      "/home/sangbijaksana/anaconda3/lib/python3.7/site-packages/ipykernel_launcher.py:3: SettingWithCopyWarning: \n",
      "A value is trying to be set on a copy of a slice from a DataFrame.\n",
      "Try using .loc[row_indexer,col_indexer] = value instead\n",
      "\n",
      "See the caveats in the documentation: http://pandas.pydata.org/pandas-docs/stable/indexing.html#indexing-view-versus-copy\n",
      "  This is separate from the ipykernel package so we can avoid doing imports until\n"
     ]
    },
    {
     "name": "stdout",
     "output_type": "stream",
     "text": [
      "2018-01-10, BUY CREATE\n",
      "2018-01-10, Order Canceled/Margin/Rejected\n",
      "2018-01-10, BUY CREATE\n",
      "2018-01-10, Order Canceled/Margin/Rejected\n",
      "2018-01-14, BUY CREATE\n",
      "2018-01-14, Order Canceled/Margin/Rejected\n",
      "2018-01-14, BUY CREATE\n",
      "2018-01-14, Order Canceled/Margin/Rejected\n",
      "2018-01-16, BUY CREATE\n",
      "2018-01-16, Order Canceled/Margin/Rejected\n",
      "2018-01-16, BUY CREATE\n",
      "2018-01-16, Order Canceled/Margin/Rejected\n",
      "2018-01-16, BUY CREATE\n",
      "2018-01-16, Order Canceled/Margin/Rejected\n",
      "2018-01-16, BUY CREATE\n",
      "2018-01-16, Order Canceled/Margin/Rejected\n",
      "2018-01-16, BUY CREATE\n",
      "2018-01-16, Order Canceled/Margin/Rejected\n",
      "2018-01-16, BUY CREATE\n",
      "2018-01-16, Order Canceled/Margin/Rejected\n",
      "2018-01-17, BUY CREATE\n",
      "2018-01-17, Order Canceled/Margin/Rejected\n",
      "2018-01-17, BUY CREATE\n",
      "2018-01-17, Order Canceled/Margin/Rejected\n",
      "2018-01-17, BUY CREATE\n",
      "2018-01-17, Order Canceled/Margin/Rejected\n",
      "2018-01-17, BUY CREATE\n",
      "2018-01-17, Order Canceled/Margin/Rejected\n",
      "2018-01-17, BUY CREATE\n",
      "2018-01-17, Order Canceled/Margin/Rejected\n",
      "2018-01-17, BUY CREATE\n",
      "2018-01-17, Order Canceled/Margin/Rejected\n",
      "2018-01-17, BUY CREATE\n",
      "2018-01-17, Order Canceled/Margin/Rejected\n",
      "2018-01-17, BUY CREATE\n",
      "2018-01-17, Order Canceled/Margin/Rejected\n",
      "2018-01-17, BUY CREATE\n",
      "2018-01-17, Order Canceled/Margin/Rejected\n",
      "2018-01-17, BUY CREATE\n",
      "2018-01-17, Order Canceled/Margin/Rejected\n",
      "2018-01-17, BUY CREATE\n",
      "2018-01-17, Order Canceled/Margin/Rejected\n",
      "2018-01-17, BUY CREATE\n",
      "2018-01-17, Order Canceled/Margin/Rejected\n",
      "2018-01-17, BUY CREATE\n",
      "2018-01-17, Order Canceled/Margin/Rejected\n",
      "2018-01-17, BUY CREATE\n",
      "2018-01-17, Order Canceled/Margin/Rejected\n",
      "2018-01-17, BUY CREATE\n",
      "2018-01-17, Order Canceled/Margin/Rejected\n",
      "2018-01-17, BUY CREATE\n",
      "2018-01-17, Order Canceled/Margin/Rejected\n",
      "2018-01-17, BUY CREATE\n",
      "2018-01-17, Order Canceled/Margin/Rejected\n",
      "2018-01-17, BUY CREATE\n",
      "2018-01-17, Order Canceled/Margin/Rejected\n",
      "2018-01-18, BUY CREATE\n",
      "2018-01-18, Order Canceled/Margin/Rejected\n",
      "2018-01-18, BUY CREATE\n",
      "2018-01-18, Order Canceled/Margin/Rejected\n",
      "2018-01-18, BUY CREATE\n",
      "2018-01-18, Order Canceled/Margin/Rejected\n",
      "2018-01-18, BUY CREATE\n",
      "2018-01-18, Order Canceled/Margin/Rejected\n",
      "2018-01-20, BUY CREATE\n",
      "2018-01-20, Order Canceled/Margin/Rejected\n",
      "2018-02-02, BUY CREATE\n",
      "2018-02-02, Order Canceled/Margin/Rejected\n",
      "2018-02-02, BUY CREATE\n",
      "2018-02-02, Order Canceled/Margin/Rejected\n",
      "2018-02-06, BUY CREATE\n",
      "2018-02-06, Order Canceled/Margin/Rejected\n",
      "2018-02-06, BUY CREATE\n",
      "2018-02-06, BUY EXECUTED, Price: 98194000.00, Cost: 98194000.00, Comm 294582.00\n",
      "2018-02-06, SELL CREATE\n",
      "2018-02-06, SELL EXECUTED, Price: 89700000.00, Cost: 98194000.00, Comm 269100.00\n",
      "2018-02-06, OPERATION PROFIT, GROSS -8494000.00, NET -9057682.00\n",
      "2018-02-06, BUY CREATE\n",
      "2018-02-06, BUY EXECUTED, Price: 86201000.00, Cost: 86201000.00, Comm 258603.00\n",
      "2018-02-06, SELL CREATE\n",
      "2018-02-06, SELL EXECUTED, Price: 85415000.00, Cost: 86201000.00, Comm 256245.00\n",
      "2018-02-06, OPERATION PROFIT, GROSS -786000.00, NET -1300848.00\n",
      "2018-02-06, BUY CREATE\n",
      "2018-02-06, BUY EXECUTED, Price: 87842000.00, Cost: 87842000.00, Comm 263526.00\n",
      "2018-02-06, SELL CREATE\n",
      "2018-02-06, SELL EXECUTED, Price: 88837000.00, Cost: 87842000.00, Comm 266511.00\n",
      "2018-02-06, OPERATION PROFIT, GROSS 995000.00, NET 464963.00\n",
      "2018-02-06, BUY CREATE\n",
      "2018-02-06, Order Canceled/Margin/Rejected\n",
      "2018-02-06, BUY CREATE\n",
      "2018-02-06, Order Canceled/Margin/Rejected\n",
      "2018-02-08, BUY CREATE\n",
      "2018-02-08, Order Canceled/Margin/Rejected\n",
      "Final Portfolio Value: 90106433.00\n",
      "Profit: -9893567.00 (-9.893567%)\n"
     ]
    }
   ],
   "source": [
    "run_calculate_profit(desc_test_frame[t_backward:-regr_count], desc_test_label)"
   ]
  },
  {
   "cell_type": "markdown",
   "metadata": {},
   "source": [
    "### Stagnant Data"
   ]
  },
  {
   "cell_type": "code",
   "execution_count": 104,
   "metadata": {},
   "outputs": [
    {
     "name": "stdout",
     "output_type": "stream",
     "text": [
      "Elapsed Time: 10.99504828453064 second(s)\n",
      "Label statistic:\n",
      "    Buy 0\n",
      "    Hold 17565\n",
      "    Sell 0\n"
     ]
    }
   ],
   "source": [
    "stag_test_label = label_test_data(x_stag_test_frame, y_stag_test_frame)"
   ]
  },
  {
   "cell_type": "code",
   "execution_count": 105,
   "metadata": {
    "scrolled": true
   },
   "outputs": [
    {
     "name": "stdout",
     "output_type": "stream",
     "text": [
      "Starting Portfolio Value: 100000000.00\n"
     ]
    },
    {
     "name": "stderr",
     "output_type": "stream",
     "text": [
      "/home/sangbijaksana/anaconda3/lib/python3.7/site-packages/ipykernel_launcher.py:3: SettingWithCopyWarning: \n",
      "A value is trying to be set on a copy of a slice from a DataFrame.\n",
      "Try using .loc[row_indexer,col_indexer] = value instead\n",
      "\n",
      "See the caveats in the documentation: http://pandas.pydata.org/pandas-docs/stable/indexing.html#indexing-view-versus-copy\n",
      "  This is separate from the ipykernel package so we can avoid doing imports until\n"
     ]
    },
    {
     "name": "stdout",
     "output_type": "stream",
     "text": [
      "Final Portfolio Value: 100000000.00\n",
      "Profit: 0.00 (0.000000%)\n"
     ]
    }
   ],
   "source": [
    "run_calculate_profit(stag_test_frame[t_backward:-regr_count], stag_test_label)"
   ]
  },
  {
   "cell_type": "markdown",
   "metadata": {},
   "source": [
    "### Training Data"
   ]
  },
  {
   "cell_type": "code",
   "execution_count": 106,
   "metadata": {},
   "outputs": [
    {
     "name": "stdout",
     "output_type": "stream",
     "text": [
      "Elapsed Time: 31.954103469848633 second(s)\n",
      "Label statistic:\n",
      "    Buy 83\n",
      "    Hold 52262\n",
      "    Sell 68\n"
     ]
    }
   ],
   "source": [
    "training_test_label = label_test_data(x_training_frame, y_training_frame)"
   ]
  },
  {
   "cell_type": "code",
   "execution_count": 107,
   "metadata": {},
   "outputs": [
    {
     "name": "stdout",
     "output_type": "stream",
     "text": [
      "Starting Portfolio Value: 100000000.00\n"
     ]
    },
    {
     "name": "stderr",
     "output_type": "stream",
     "text": [
      "/home/sangbijaksana/anaconda3/lib/python3.7/site-packages/ipykernel_launcher.py:3: SettingWithCopyWarning: \n",
      "A value is trying to be set on a copy of a slice from a DataFrame.\n",
      "Try using .loc[row_indexer,col_indexer] = value instead\n",
      "\n",
      "See the caveats in the documentation: http://pandas.pydata.org/pandas-docs/stable/indexing.html#indexing-view-versus-copy\n",
      "  This is separate from the ipykernel package so we can avoid doing imports until\n"
     ]
    },
    {
     "name": "stdout",
     "output_type": "stream",
     "text": [
      "2015-11-01, BUY CREATE\n",
      "2015-11-01, BUY EXECUTED, Price: 4620000.00, Cost: 4620000.00, Comm 13860.00\n",
      "2015-11-03, SELL CREATE\n",
      "2015-11-03, SELL EXECUTED, Price: 4800000.00, Cost: 4620000.00, Comm 14400.00\n",
      "2015-11-03, OPERATION PROFIT, GROSS 180000.00, NET 151740.00\n",
      "2015-11-03, BUY CREATE\n",
      "2015-11-03, BUY EXECUTED, Price: 4720300.00, Cost: 4720300.00, Comm 14160.90\n",
      "2015-11-04, SELL CREATE\n",
      "2015-11-04, SELL EXECUTED, Price: 5288500.00, Cost: 4720300.00, Comm 15865.50\n",
      "2015-11-04, OPERATION PROFIT, GROSS 568200.00, NET 538173.60\n",
      "2015-11-04, BUY CREATE\n",
      "2015-11-04, BUY EXECUTED, Price: 5860000.00, Cost: 5860000.00, Comm 17580.00\n",
      "2015-11-04, SELL CREATE\n",
      "2015-11-04, SELL EXECUTED, Price: 5847900.00, Cost: 5860000.00, Comm 17543.70\n",
      "2015-11-04, OPERATION PROFIT, GROSS -12100.00, NET -47223.70\n",
      "2015-11-04, BUY CREATE\n",
      "2015-11-04, BUY EXECUTED, Price: 6443500.00, Cost: 6443500.00, Comm 19330.50\n",
      "2015-11-04, SELL CREATE\n",
      "2015-11-04, SELL EXECUTED, Price: 6548000.00, Cost: 6443500.00, Comm 19644.00\n",
      "2015-11-04, OPERATION PROFIT, GROSS 104500.00, NET 65525.50\n",
      "2015-11-05, BUY CREATE\n",
      "2015-11-05, BUY EXECUTED, Price: 6000100.00, Cost: 6000100.00, Comm 18000.30\n",
      "2015-11-05, SELL CREATE\n",
      "2015-11-05, SELL EXECUTED, Price: 6449800.00, Cost: 6000100.00, Comm 19349.40\n",
      "2015-11-05, OPERATION PROFIT, GROSS 449700.00, NET 412350.30\n",
      "2015-11-05, BUY CREATE\n",
      "2015-11-05, BUY EXECUTED, Price: 6226000.00, Cost: 6226000.00, Comm 18678.00\n",
      "2015-11-05, SELL CREATE\n",
      "2015-11-05, SELL EXECUTED, Price: 6228900.00, Cost: 6226000.00, Comm 18686.70\n",
      "2015-11-05, OPERATION PROFIT, GROSS 2900.00, NET -34464.70\n",
      "2015-11-05, BUY CREATE\n",
      "2015-11-05, BUY EXECUTED, Price: 6000000.00, Cost: 6000000.00, Comm 18000.00\n",
      "2015-11-05, SELL CREATE\n",
      "2015-11-05, SELL EXECUTED, Price: 5696100.00, Cost: 6000000.00, Comm 17088.30\n",
      "2015-11-05, OPERATION PROFIT, GROSS -303900.00, NET -338988.30\n",
      "2015-11-05, BUY CREATE\n",
      "2015-11-05, BUY EXECUTED, Price: 5761500.00, Cost: 5761500.00, Comm 17284.50\n",
      "2015-11-05, SELL CREATE\n",
      "2015-11-05, SELL EXECUTED, Price: 5990000.00, Cost: 5761500.00, Comm 17970.00\n",
      "2015-11-05, OPERATION PROFIT, GROSS 228500.00, NET 193245.50\n",
      "2015-11-05, BUY CREATE\n",
      "2015-11-05, BUY EXECUTED, Price: 6060600.00, Cost: 6060600.00, Comm 18181.80\n",
      "2015-11-05, SELL CREATE\n",
      "2015-11-05, SELL EXECUTED, Price: 5934000.00, Cost: 6060600.00, Comm 17802.00\n",
      "2015-11-05, OPERATION PROFIT, GROSS -126600.00, NET -162583.80\n",
      "2015-11-05, BUY CREATE\n",
      "2015-11-05, BUY EXECUTED, Price: 5540000.00, Cost: 5540000.00, Comm 16620.00\n",
      "2015-11-05, SELL CREATE\n",
      "2015-11-05, SELL EXECUTED, Price: 5674900.00, Cost: 5540000.00, Comm 17024.70\n",
      "2015-11-05, OPERATION PROFIT, GROSS 134900.00, NET 101255.30\n",
      "2015-11-05, BUY CREATE\n",
      "2015-11-05, BUY EXECUTED, Price: 5579000.00, Cost: 5579000.00, Comm 16737.00\n",
      "2015-11-05, SELL CREATE\n",
      "2015-11-05, SELL EXECUTED, Price: 5580000.00, Cost: 5579000.00, Comm 16740.00\n",
      "2015-11-05, OPERATION PROFIT, GROSS 1000.00, NET -32477.00\n",
      "2015-11-05, BUY CREATE\n",
      "2015-11-05, BUY EXECUTED, Price: 5615400.00, Cost: 5615400.00, Comm 16846.20\n",
      "2015-11-05, SELL CREATE\n",
      "2015-11-05, SELL EXECUTED, Price: 5505500.00, Cost: 5615400.00, Comm 16516.50\n",
      "2015-11-05, OPERATION PROFIT, GROSS -109900.00, NET -143262.70\n",
      "2015-11-06, BUY CREATE\n",
      "2015-11-06, BUY EXECUTED, Price: 5260000.00, Cost: 5260000.00, Comm 15780.00\n",
      "2015-11-06, SELL CREATE\n",
      "2015-11-06, SELL EXECUTED, Price: 5000000.00, Cost: 5260000.00, Comm 15000.00\n",
      "2015-11-06, OPERATION PROFIT, GROSS -260000.00, NET -290780.00\n",
      "2015-11-06, BUY CREATE\n",
      "2015-11-06, BUY EXECUTED, Price: 5089000.00, Cost: 5089000.00, Comm 15267.00\n",
      "2015-11-06, SELL CREATE\n",
      "2015-11-06, SELL EXECUTED, Price: 5080000.00, Cost: 5089000.00, Comm 15240.00\n",
      "2015-11-06, OPERATION PROFIT, GROSS -9000.00, NET -39507.00\n",
      "2015-11-06, BUY CREATE\n",
      "2015-11-06, BUY EXECUTED, Price: 4935800.00, Cost: 4935800.00, Comm 14807.40\n",
      "2015-11-06, SELL CREATE\n",
      "2015-11-06, SELL EXECUTED, Price: 5439700.00, Cost: 4935800.00, Comm 16319.10\n",
      "2015-11-06, OPERATION PROFIT, GROSS 503900.00, NET 472773.50\n",
      "2015-11-06, BUY CREATE\n",
      "2015-11-06, BUY EXECUTED, Price: 5399300.00, Cost: 5399300.00, Comm 16197.90\n",
      "2015-11-07, SELL CREATE\n",
      "2015-11-07, SELL EXECUTED, Price: 5148500.00, Cost: 5399300.00, Comm 15445.50\n",
      "2015-11-07, OPERATION PROFIT, GROSS -250800.00, NET -282443.40\n",
      "2015-11-07, BUY CREATE\n",
      "2015-11-07, BUY EXECUTED, Price: 5049700.00, Cost: 5049700.00, Comm 15149.10\n",
      "2015-11-10, SELL CREATE\n",
      "2015-11-10, SELL EXECUTED, Price: 4393900.00, Cost: 5049700.00, Comm 13181.70\n",
      "2015-11-10, OPERATION PROFIT, GROSS -655800.00, NET -684130.80\n",
      "2015-11-10, BUY CREATE\n",
      "2015-11-10, BUY EXECUTED, Price: 4427400.00, Cost: 4427400.00, Comm 13282.20\n",
      "2015-11-10, SELL CREATE\n",
      "2015-11-10, SELL EXECUTED, Price: 4397000.00, Cost: 4427400.00, Comm 13191.00\n",
      "2015-11-10, OPERATION PROFIT, GROSS -30400.00, NET -56873.20\n",
      "2015-11-10, BUY CREATE\n",
      "2015-11-10, BUY EXECUTED, Price: 4270000.00, Cost: 4270000.00, Comm 12810.00\n",
      "2015-11-10, SELL CREATE\n",
      "2015-11-10, SELL EXECUTED, Price: 4399800.00, Cost: 4270000.00, Comm 13199.40\n",
      "2015-11-10, OPERATION PROFIT, GROSS 129800.00, NET 103790.60\n",
      "2015-11-10, BUY CREATE\n",
      "2015-11-10, BUY EXECUTED, Price: 4287200.00, Cost: 4287200.00, Comm 12861.60\n",
      "2015-11-10, SELL CREATE\n",
      "2015-11-10, SELL EXECUTED, Price: 4300000.00, Cost: 4287200.00, Comm 12900.00\n",
      "2015-11-10, OPERATION PROFIT, GROSS 12800.00, NET -12961.60\n",
      "2015-11-11, BUY CREATE\n",
      "2015-11-11, BUY EXECUTED, Price: 4389800.00, Cost: 4389800.00, Comm 13169.40\n",
      "2015-11-11, SELL CREATE\n",
      "2015-11-11, SELL EXECUTED, Price: 4218100.00, Cost: 4389800.00, Comm 12654.30\n",
      "2015-11-11, OPERATION PROFIT, GROSS -171700.00, NET -197523.70\n",
      "2015-11-11, BUY CREATE\n",
      "2015-11-11, BUY EXECUTED, Price: 4049700.00, Cost: 4049700.00, Comm 12149.10\n",
      "2015-11-11, SELL CREATE\n",
      "2015-11-11, SELL EXECUTED, Price: 3900100.00, Cost: 4049700.00, Comm 11700.30\n",
      "2015-11-11, OPERATION PROFIT, GROSS -149600.00, NET -173449.40\n",
      "2015-11-11, BUY CREATE\n",
      "2015-11-11, BUY EXECUTED, Price: 3930200.00, Cost: 3930200.00, Comm 11790.60\n",
      "2015-11-11, SELL CREATE\n",
      "2015-11-11, SELL EXECUTED, Price: 4048700.00, Cost: 3930200.00, Comm 12146.10\n",
      "2015-11-11, OPERATION PROFIT, GROSS 118500.00, NET 94563.30\n",
      "2015-11-11, BUY CREATE\n",
      "2015-11-11, BUY EXECUTED, Price: 3818000.00, Cost: 3818000.00, Comm 11454.00\n",
      "2015-11-11, SELL CREATE\n",
      "2015-11-11, SELL EXECUTED, Price: 3354000.00, Cost: 3818000.00, Comm 10062.00\n",
      "2015-11-11, OPERATION PROFIT, GROSS -464000.00, NET -485516.00\n",
      "2015-11-11, BUY CREATE\n",
      "2015-11-11, BUY EXECUTED, Price: 3644000.00, Cost: 3644000.00, Comm 10932.00\n",
      "2015-11-11, SELL CREATE\n",
      "2015-11-11, SELL EXECUTED, Price: 3850100.00, Cost: 3644000.00, Comm 11550.30\n",
      "2015-11-11, OPERATION PROFIT, GROSS 206100.00, NET 183617.70\n",
      "2015-11-11, BUY CREATE\n",
      "2015-11-11, BUY EXECUTED, Price: 3899800.00, Cost: 3899800.00, Comm 11699.40\n",
      "2015-11-11, SELL CREATE\n",
      "2015-11-11, SELL EXECUTED, Price: 3899900.00, Cost: 3899800.00, Comm 11699.70\n",
      "2015-11-11, OPERATION PROFIT, GROSS 100.00, NET -23299.10\n",
      "2015-11-11, BUY CREATE\n",
      "2015-11-11, BUY EXECUTED, Price: 3798800.00, Cost: 3798800.00, Comm 11396.40\n",
      "2015-11-11, SELL CREATE\n",
      "2015-11-11, SELL EXECUTED, Price: 3831600.00, Cost: 3798800.00, Comm 11494.80\n",
      "2015-11-11, OPERATION PROFIT, GROSS 32800.00, NET 9908.80\n",
      "2015-11-11, BUY CREATE\n",
      "2015-11-11, BUY EXECUTED, Price: 3750000.00, Cost: 3750000.00, Comm 11250.00\n",
      "2015-11-11, SELL CREATE\n",
      "2015-11-11, SELL EXECUTED, Price: 3934000.00, Cost: 3750000.00, Comm 11802.00\n",
      "2015-11-11, OPERATION PROFIT, GROSS 184000.00, NET 160948.00\n",
      "2015-11-11, BUY CREATE\n",
      "2015-11-11, BUY EXECUTED, Price: 3850500.00, Cost: 3850500.00, Comm 11551.50\n",
      "2015-11-12, SELL CREATE\n",
      "2015-11-12, SELL EXECUTED, Price: 3898100.00, Cost: 3850500.00, Comm 11694.30\n",
      "2015-11-12, OPERATION PROFIT, GROSS 47600.00, NET 24354.20\n",
      "2015-11-12, BUY CREATE\n",
      "2015-11-12, BUY EXECUTED, Price: 3766000.00, Cost: 3766000.00, Comm 11298.00\n",
      "2015-11-12, SELL CREATE\n",
      "2015-11-12, SELL EXECUTED, Price: 3846100.00, Cost: 3766000.00, Comm 11538.30\n",
      "2015-11-12, OPERATION PROFIT, GROSS 80100.00, NET 57263.70\n",
      "2015-11-12, BUY CREATE\n",
      "2015-11-12, BUY EXECUTED, Price: 4325500.00, Cost: 4325500.00, Comm 12976.50\n",
      "2015-11-26, SELL CREATE\n",
      "2015-11-26, SELL EXECUTED, Price: 4906000.00, Cost: 4325500.00, Comm 14718.00\n",
      "2015-11-26, OPERATION PROFIT, GROSS 580500.00, NET 552805.50\n",
      "2015-11-26, BUY CREATE\n",
      "2015-11-26, BUY EXECUTED, Price: 4733400.00, Cost: 4733400.00, Comm 14200.20\n",
      "2015-11-26, SELL CREATE\n",
      "2015-11-26, SELL EXECUTED, Price: 4760000.00, Cost: 4733400.00, Comm 14280.00\n",
      "2015-11-26, OPERATION PROFIT, GROSS 26600.00, NET -1880.20\n",
      "2015-12-01, BUY CREATE\n",
      "2015-12-01, BUY EXECUTED, Price: 4850100.00, Cost: 4850100.00, Comm 14550.30\n",
      "2015-12-02, SELL CREATE\n",
      "2015-12-02, SELL EXECUTED, Price: 4896100.00, Cost: 4850100.00, Comm 14688.30\n",
      "2015-12-02, OPERATION PROFIT, GROSS 46000.00, NET 16761.40\n"
     ]
    },
    {
     "name": "stdout",
     "output_type": "stream",
     "text": [
      "2015-12-12, BUY CREATE\n",
      "2015-12-12, BUY EXECUTED, Price: 6231100.00, Cost: 6231100.00, Comm 18693.30\n",
      "2015-12-12, SELL CREATE\n",
      "2015-12-12, SELL EXECUTED, Price: 6100000.00, Cost: 6231100.00, Comm 18300.00\n",
      "2015-12-12, OPERATION PROFIT, GROSS -131100.00, NET -168093.30\n",
      "2015-12-12, BUY CREATE\n",
      "2015-12-12, BUY EXECUTED, Price: 6033900.00, Cost: 6033900.00, Comm 18101.70\n",
      "2015-12-12, SELL CREATE\n",
      "2015-12-12, SELL EXECUTED, Price: 6101000.00, Cost: 6033900.00, Comm 18303.00\n",
      "2015-12-12, OPERATION PROFIT, GROSS 67100.00, NET 30695.30\n",
      "2015-12-21, BUY CREATE\n",
      "2015-12-21, BUY EXECUTED, Price: 6111000.00, Cost: 6111000.00, Comm 18333.00\n",
      "2016-01-16, SELL CREATE\n",
      "2016-01-16, SELL EXECUTED, Price: 5600100.00, Cost: 6111000.00, Comm 16800.30\n",
      "2016-01-16, OPERATION PROFIT, GROSS -510900.00, NET -546033.30\n",
      "2016-01-16, BUY CREATE\n",
      "2016-01-16, BUY EXECUTED, Price: 5551300.00, Cost: 5551300.00, Comm 16653.90\n",
      "2016-01-16, SELL CREATE\n",
      "2016-01-16, SELL EXECUTED, Price: 5595100.00, Cost: 5551300.00, Comm 16785.30\n",
      "2016-01-16, OPERATION PROFIT, GROSS 43800.00, NET 10360.80\n",
      "2016-01-29, BUY CREATE\n",
      "2016-01-29, BUY EXECUTED, Price: 5000100.00, Cost: 5000100.00, Comm 15000.30\n",
      "2016-03-05, SELL CREATE\n",
      "2016-03-05, SELL EXECUTED, Price: 5270100.00, Cost: 5000100.00, Comm 15810.30\n",
      "2016-03-05, OPERATION PROFIT, GROSS 270000.00, NET 239189.40\n",
      "Final Portfolio Value: 99697831.20\n",
      "Profit: -302168.80 (-0.302169%)\n"
     ]
    }
   ],
   "source": [
    "run_calculate_profit(training_frame[t_backward:-regr_count], training_test_label)"
   ]
  },
  {
   "cell_type": "code",
   "execution_count": null,
   "metadata": {},
   "outputs": [],
   "source": []
  }
 ],
 "metadata": {
  "kernelspec": {
   "display_name": "Python 3",
   "language": "python",
   "name": "python3"
  },
  "language_info": {
   "codemirror_mode": {
    "name": "ipython",
    "version": 3
   },
   "file_extension": ".py",
   "mimetype": "text/x-python",
   "name": "python",
   "nbconvert_exporter": "python",
   "pygments_lexer": "ipython3",
   "version": "3.7.1"
  }
 },
 "nbformat": 4,
 "nbformat_minor": 2
}
